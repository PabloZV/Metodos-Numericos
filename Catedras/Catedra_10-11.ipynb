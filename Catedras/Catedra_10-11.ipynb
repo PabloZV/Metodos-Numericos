{
 "cells": [
  {
   "cell_type": "markdown",
   "metadata": {},
   "source": [
    "# Ecuaciones Diferenciales Ordinarias"
   ]
  },
  {
   "cell_type": "markdown",
   "metadata": {},
   "source": [
    "$$\n",
    "\\frac{d^2 g}{d\\xi^2} = F(\\xi, g, g')\n",
    "$$\n",
    "\n",
    "Estas ecuaciones se pueden escribir vectorialmente como\n",
    "\n",
    "$$\n",
    "\\frac{d \\vec{y}}{d\\xi} = \\vec{f}\\left(\\vec{\\xi},\\,\\,\\vec{y}\\right)\n",
    "$$\n",
    "\n",
    "$$\n",
    "\\vec{y} = \\left(\\begin{matrix}\n",
    "g \\\\ y_2\n",
    "\\end{matrix}\\right),\\,\\, \\vec{f} = \\left(\\begin{matrix}\n",
    "y_2 \\\\ T\n",
    "\\end{matrix}\\right)\n",
    "$$"
   ]
  },
  {
   "cell_type": "markdown",
   "metadata": {},
   "source": [
    "Ejemplo:\n",
    "$$\n",
    "\\frac{d^2 y}{dx^2} + q(x)\\frac{dy}{dx} = r(x)\n",
    "$$\n",
    "\n",
    "#### Una EDO de orden $N$ $\\leftrightarrow$ $N$ ecuaciones de orden 1 acopladas\n",
    "$$\n",
    "\\frac{dy_i}{dx} = F\\left(x, \\vec{y}\\right)\n",
    "$$"
   ]
  },
  {
   "cell_type": "markdown",
   "metadata": {},
   "source": [
    "## Metodo *Explicito* de Euler\n",
    "\n",
    "defs:\n",
    "- $x_n = x_0 + nh$\n",
    "- $y_n = y(x_n)$\n",
    "- $f_n = f(x_n, y_n)$\n",
    "\n",
    "$$\\frac{dy}{dx} \\sim \\frac{y_{n+1} - y_n}{h} + O(h) = f_n$$\n",
    "\n",
    "$$y_{n+1} = y_n + hf_n + O\\left(h^2\\right)$$\n",
    "\n",
    "### Implicito\n",
    "$$\\frac{dy}{dx} = \\frac{y_{n+1} - y_{n-1}}{2h}+O\\left(h^2\\right) = f_n$$\n",
    "\n",
    "$$y_{n+1} = y_{n-1} + 2hf_n +O\\left(h^3\\right)\\qquad(*)$$"
   ]
  },
  {
   "cell_type": "markdown",
   "metadata": {},
   "source": [
    "El problema con este algoritmo es que es inestable, y por lo tanto los errores asociados crecen en vez de cancelarse. Ahora vamos a analizar la estabilidad del algoritmo.\n",
    "\n",
    "## Estabilidad\n",
    "### Analisis de Von Newman\n",
    "\n",
    "Sea $\\bar{y}$ la solucion exacta al __algoritmo numerico__ ($\\neq$ a la solucion del problema)\n",
    "\n",
    "$$\\bar{y}_{n+1} = \\bar{y}_{n-1} + 2hf\\left(x_n,\\,\\,\\bar{y}_n\\right) \\qquad\\qquad (**)$$\n",
    "\n",
    "Sea $\\epsilon_n$ el error de maquina asociado al paso $n$\n",
    "\n",
    "$$\\implies y_n = \\bar{y}_n + \\epsilon_n$$\n",
    "\n",
    "Esto se reemplaza en $(*)$ y se obtiene:\n",
    "$$\\bar{y}_{n+a}+\\epsilon_{n+1} = \\bar{y}_{n-1}+\\epsilon_{n-1}+2f\\left(x_n,\\bar{y}_n+\\epsilon_n\\right)h$$\n",
    "\n",
    "Haciendo una expansion de taylor de $f$ en torno a $\\epsilon_n$:\n",
    "\n",
    "$$f\\left(x_n,\\,\\,\\bar{y}_n+\\epsilon_n\\right)\\sim f\\left(x_n,\\,\\,\\bar{y}_n\\right) + \\frac{\\partial f}{\\partial y}\\biggr\\vert_{\\bar{y}_n}\\epsilon_n$$\n",
    "Esto despues se reemplaza en la expresion original, y aprovechando que la solucion exacta del algoritmo es $(**)$ la ecuacion queda:\n",
    "\n",
    "$$\\epsilon_{n+1} = \\epsilon_{n-1} + 2h\\frac{\\partial f}{\\partial y}\\biggr\\vert_{\\bar{y}_n}\\epsilon_n$$\n",
    "\n",
    "El ultimo termino de esta expresion se puede asumir constante y se renombra $2h\\frac{\\partial f}{\\partial y} = 2\\gamma = $ const"
   ]
  },
  {
   "cell_type": "markdown",
   "metadata": {},
   "source": [
    "Suponiendo que $\\epsilon_n = \\epsilon_0\\lambda^n$\n",
    "\n",
    "$$\\epsilon_0\\lambda^{n+1} = \\epsilon_0\\lambda^{n-1} + 2\\gamma\\epsilon_0\\lambda^n$$\n",
    "\n",
    "$$\\lambda^2 - 2\\gamma\\lambda - 1 = 0$$\n",
    "\n",
    "$$\\lambda = \\gamma\\pm\\sqrt{1+\\gamma^2}$$\n",
    "\n",
    "La solucion general es:\n",
    "\n",
    "$$\\epsilon_n = A\\lambda_{+}^n + B\\lambda_{-}^n$$\n",
    "\n",
    "Se tienen los siguientes casos:\n",
    "$$\\gamma > 0 \\implies \\lambda_{+} > 1 \\implies \\epsilon_n \\rightarrow \\infty\\quad \\text{as}\\quad n \\rightarrow \\infty$$\n",
    "\n",
    "$$\\gamma < 0 \\implies \\lambda_{-} < 1- \\implies \\epsilon_n \\rightarrow \\pm\\infty\\quad \\text{as}\\quad n \\rightarrow \\infty$$\n",
    "\n",
    "Este algoritmo suele ser utilizado para calcular derivadas de primer orden, o resolver ecuaciones en donde el error asociado al problema es menor al error acumulado de maquina.\n",
    "\n",
    "Buscamos un algoritmo mas estable..."
   ]
  },
  {
   "cell_type": "markdown",
   "metadata": {},
   "source": [
    "## Runge-Kutta\n",
    "$$\\frac{dy}{dx} = f(x,y) = y'$$\n",
    "\n",
    "1. $y_{n+1} = y_n + hy'_n + \\frac{h^2}{2}y''_n + O\\left(h^3\\right)$\n",
    "2. $y'_{n+1/2} = y'_n + \\frac{h}{2}y''_n + O\\left(h^2\\right)$\n",
    "$$\\implies \\frac{h^2}{2}y''_n = \\left(y'_{n+1/2} - y'_n\\right)h + O\\left(h^3\\right)$$\n",
    "\n",
    "Reemplazando 2) en 1)\n",
    "$$y_{n+1} = y_n + hy'_{n+1/2} + O\\left(h^3\\right)$$\n",
    "\n",
    "$$y'_{n+1/2} = f\\left(x_n + \\frac{h}{2}, y_{n+1/2}\\right)$$\n",
    "\n",
    "$$y_{n+1/2} = y_n + y'_n\\frac{h}{2} + \\ldots$$\n",
    "\n",
    "$$y'_{n+1/2} = f\\left(x + \\frac{h}{2},\\,\\, y_n+\\frac{h}{2}f_n\\right)$$\n",
    "\n",
    "Con $f_n = y'_n$"
   ]
  },
  {
   "cell_type": "markdown",
   "metadata": {},
   "source": [
    "## Implementacion\n",
    "\n",
    "$$K_1 = hf_n$$\n",
    "\n",
    "$$K_2 = hf\\left(x_n+\\frac{h}{2},\\,\\, y_n+\\frac{K_1}{2}\\right)$$"
   ]
  },
  {
   "cell_type": "markdown",
   "metadata": {},
   "source": [
    "### Problema: Pendulo simple\n",
    "\n",
    "$$\\ddot{\\phi} = -\\frac{g}{l}\\sin{\\phi}$$\n",
    "\n",
    "#### Reducir el orden:\n",
    "\n",
    "$$\\frac{d\\phi}{dt} = \\omega$$\n",
    "\n",
    "$$\\frac{d\\omega}{dt} = -\\frac{g}{l}\\sin{\\phi}$$\n",
    "\n",
    "$$\\frac{d}{dt}\\left(\n",
    "\\begin{matrix}\n",
    "\\phi \\\\\n",
    "\\omega\n",
    "\\end{matrix}\\right) \n",
    "= \\left(\n",
    "\\begin{matrix}\n",
    "\\omega \\\\\n",
    "-\\frac{g}{l}\\sin{\\phi}\n",
    "\\end{matrix}\\right)$$\n",
    "\n",
    "#### Condiciones iniciales:\n",
    "\n",
    "$$y[0] = \\phi = \\phi_0$$\n",
    "\n",
    "$$y[1] = \\omega = \\omega_0$$\n",
    "\n",
    "Con $\\phi_0$ algun angulo, $\\omega_0 = 0 \\implies \\phi(t) = A\\cos(\\lambda t + \\delta) \\quad \\dot{\\phi} = -A\\lambda\\sin(\\lambda t + \\delta)\\quad$ con $\\lambda = \\sqrt{\\frac{g}{l}}$\n",
    "\n",
    "#### Se eligen los $K_i$\n",
    "\n",
    "$$K_1 = h\\left(\\begin{matrix}\\omega_n \\\\ -\\frac{g}{l}\\sin{\\phi_n}\\end{matrix}\\right)$$\n",
    "\n",
    "$$K_2 = h\\left(\\begin{matrix}\\omega_{n+1/2} \\\\ -\\frac{g}{l}\\sin{\\phi_{n+1/2}}\\end{matrix}\\right)$$"
   ]
  },
  {
   "cell_type": "code",
   "execution_count": null,
   "metadata": {
    "collapsed": true
   },
   "outputs": [],
   "source": [
    "\"\"\"\n",
    "Implementa la solucion de RK2 para el problema de un pendulo de largo 1\n",
    "\"\"\""
   ]
  },
  {
   "cell_type": "code",
   "execution_count": 1,
   "metadata": {
    "collapsed": false
   },
   "outputs": [
    {
     "name": "stderr",
     "output_type": "stream",
     "text": [
      "//anaconda/lib/python2.7/site-packages/matplotlib/font_manager.py:273: UserWarning: Matplotlib is building the font cache using fc-list. This may take a moment.\n",
      "  warnings.warn('Matplotlib is building the font cache using fc-list. This may take a moment.')\n"
     ]
    }
   ],
   "source": [
    "import numpy as np\n",
    "import matplotlib.pyplot as plt\n",
    "\n",
    "%matplotlib inline"
   ]
  },
  {
   "cell_type": "code",
   "execution_count": 2,
   "metadata": {
    "collapsed": false
   },
   "outputs": [
    {
     "data": {
      "text/plain": [
       "<matplotlib.legend.Legend at 0x10c9d7590>"
      ]
     },
     "execution_count": 2,
     "metadata": {},
     "output_type": "execute_result"
    },
    {
     "data": {
      "image/png": "[encoded data removed]",
      "text/plain": [
       "<matplotlib.figure.Figure at 0x10c9dcdd0>"
      ]
     },
     "metadata": {},
     "output_type": "display_data"
    }
   ],
   "source": [
    "# Constantes\n",
    "g = 9.8\n",
    "\n",
    "# Condiciones iniciales\n",
    "phi_t0 = np.pi / 90.\n",
    "w_t0 = 0.\n",
    "\n",
    "# Solucion para pequenas oscilaciones\n",
    "freq = np.sqrt(g)\n",
    "t = np.linspace(0, 4 * 2 * np.pi / freq, 10000) # 4 ciclos\n",
    "phi_po = phi_t0 * np.cos(freq * t)\n",
    "\n",
    "plt.plot(t, phi_po, label='pequenas oscilaciones')\n",
    "\n",
    "plt.legend(loc=8)"
   ]
  },
  {
   "cell_type": "code",
   "execution_count": 3,
   "metadata": {
    "collapsed": false
   },
   "outputs": [
    {
     "data": {
      "text/plain": [
       "<matplotlib.legend.Legend at 0x112571710>"
      ]
     },
     "execution_count": 3,
     "metadata": {},
     "output_type": "execute_result"
    },
    {
     "data": {
      "image/png": "[encoded data removed]",
      "text/plain": [
       "<matplotlib.figure.Figure at 0x112571610>"
      ]
     },
     "metadata": {},
     "output_type": "display_data"
    }
   ],
   "source": [
    "# Usando RK2\n",
    "\n",
    "# h es el tamano del paso para cada iteracion!!\n",
    "\n",
    "def f(phi, omega):\n",
    "    output = [omega, -g * np.sin(phi)]\n",
    "    return output\n",
    "\n",
    "\n",
    "def calc_k1(f, phi_n, omega_n, h):\n",
    "    fn = f(phi_n, omega_n)\n",
    "    output = [h * fn[0], h * fn[1]]\n",
    "    return output\n",
    "\n",
    "\n",
    "def calc_k2(f, phi_n, omega_n, h):\n",
    "    k1 = calc_k1(f, phi_n, omega_n, h)\n",
    "    f_mid = f(phi_n + k1[0]/2, omega_n + k1[1]/2)\n",
    "    output = [h * f_mid[0], h * f_mid[1]]\n",
    "    return output\n",
    "\n",
    "\n",
    "def rk2_step(f, phi_n, omega_n, h):\n",
    "    k2 = calc_k2(f, phi_n, omega_n, h)\n",
    "    phi_nxt = phi_n + k2[0]\n",
    "    omega_nxt = omega_n + k2[1]\n",
    "    output = [phi_nxt, omega_nxt]\n",
    "    return output\n",
    "\n",
    "Nsteps = 10000\n",
    "h = 4 * 2 * np.pi / freq / Nsteps # tiempo / pasos\n",
    "\n",
    "phi_arr = np.zeros(Nsteps)\n",
    "omega_arr = np.zeros(Nsteps)\n",
    "\n",
    "# Condiciones iniciales\n",
    "phi_arr[0] = phi_t0\n",
    "omega_arr[0] = w_t0\n",
    "\n",
    "for i in range(1, Nsteps):\n",
    "    phi_arr[i], omega_arr[i] = rk2_step(f, phi_arr[i-1], omega_arr[i-1], h)\n",
    "    \n",
    "plt.plot(t, phi_arr, label='rk2')\n",
    "\n",
    "plt.legend(loc=8)"
   ]
  },
  {
   "cell_type": "code",
   "execution_count": 4,
   "metadata": {
    "collapsed": false
   },
   "outputs": [
    {
     "data": {
      "text/plain": [
       "<matplotlib.legend.Legend at 0x112752310>"
      ]
     },
     "execution_count": 4,
     "metadata": {},
     "output_type": "execute_result"
    },
    {
     "data": {
      "image/png": "[encoded data removed]",
      "text/plain": [
       "<matplotlib.figure.Figure at 0x10cb8e8d0>"
      ]
     },
     "metadata": {},
     "output_type": "display_data"
    }
   ],
   "source": [
    "# Comparacion de ambos resultados\n",
    "plt.plot(t, phi_po, label='pequenas oscilaciones')\n",
    "plt.plot(t, phi_arr, label='rk2', color='green')\n",
    "\n",
    "plt.legend(loc=8)"
   ]
  },
  {
   "cell_type": "markdown",
   "metadata": {},
   "source": [
    "# Catedra 11\n",
    "\n",
    "## Runge-Kutta 3\n",
    "\n",
    "Este algoritmo sigue la misma idea que el algoritmo de Runge Kutta de orden 2, solo que en este hay que lidiar con derivadas de orden 3.\n",
    "\n",
    "$$\n",
    "k_1 = hf\\left(x_n,\\,\\, y_n\\right)\n",
    "$$\n",
    "\n",
    "$$\n",
    "k_2 = hf\\left(x_n + \\frac{h}{2},\\,\\, y_n + \\frac{k_1}{2}\\right)\n",
    "$$\n",
    "\n",
    "$$\n",
    "k_3 = hf\\left(x_n + h,\\,\\, y_n - k_1 -2k_2\\right)\n",
    "$$\n",
    "\n",
    "$$\n",
    "y_{n+1} = y_n + \\frac{1}{6}\\left(k_1 + 4k_2 + k_3\\right) + O\\left(h^4\\right)\n",
    "$$"
   ]
  },
  {
   "cell_type": "markdown",
   "metadata": {},
   "source": [
    "## Runge-Kutta 4\n",
    "\n",
    "Misma idea que los anteriores, solo que hay derivadas de orden 4.\n",
    "\n",
    "$$\n",
    "k_1 = hf\\left(x_n,\\,\\, y_n\\right)\n",
    "$$\n",
    "\n",
    "$$\n",
    "k_2 = hf\\left(x_n + \\frac{h}{2},\\,\\, y_n + \\frac{k_1}{2}\\right)\n",
    "$$\n",
    "\n",
    "$$\n",
    "k_3 = hf\\left(x_n + \\frac{h}{2},\\,\\, y_n + \\frac{k_2}{2}\\right)\n",
    "$$\n",
    "\n",
    "$$\n",
    "k_4 = hf\\left(x_n + h,\\,\\, y_n + k_3\\right)\n",
    "$$\n",
    "\n",
    "$$\n",
    "y_{n+1} = y_n + \\frac{k_1}{6} + \\frac{k_2}{3} + \\frac{k_3}{3} + \\frac{k_4}{6} + O\\left(h^5\\right)\n",
    "$$"
   ]
  },
  {
   "cell_type": "markdown",
   "metadata": {},
   "source": [
    "El algoritmo de Runge-Kutta 4 es mas preciso que los anteriores, pero, es estable? La repuesta a esa pregunta depende fuertemente del problema a resolver.\n",
    "\n",
    "A continuacion se analiza la estabilidad de Runge-Kutta 4 para un problema determinado.\n",
    "\n",
    "### Estabilidad de Runge-Kutta 4\n",
    "\n",
    "Consideremos $$\\frac{dx}{dy} = \\lambda y$$ Supongamos que $$ y_n = \\bar{y}_n + \\epsilon_n$$\n",
    "\n",
    "Luego\n",
    "\n",
    "$$\n",
    "k_1 = hf\\left(x_n,\\,\\, y_n\\right) = h\\lambda y_n\n",
    "$$\n",
    "\n",
    "$$\n",
    "k_2 = hf\\left(x_n + \\frac{h}{2},\\,\\, y_n + \\frac{k_1}{2}\\right) = h\\lambda\\left(1+\\frac{h}{2}\\right) y_n\n",
    "$$\n",
    "\n",
    "$$\n",
    "k_3 = h\\lambda\\left(1 + \\frac{h\\lambda}{2}\\left(1 + \\frac{h\\lambda}{2}\\right)\\right) y_n\n",
    "$$\n",
    "\n",
    "$$\n",
    "k_4 = h\\lambda\\left(1 + h\\lambda\\left(1 + \\frac{h\\lambda}{2}\\left(1 + \\frac{h\\lambda}{2}\\right)\\right)\\right)y_n\n",
    "$$\n",
    "\n",
    "$$\n",
    "\\bar{y}_{n+1} + \\epsilon_{n+1} = \\bar{y}_n + \\epsilon_n + k_4\\left(\\bar{y}_n + \\epsilon_n\\right)\n",
    "$$"
   ]
  },
  {
   "cell_type": "markdown",
   "metadata": {},
   "source": [
    "$$\n",
    "\\epsilon_{n+1} = \\epsilon_n\\left[1 + h\\lambda + \\frac{(h\\lambda)^2}{2} + \\frac{(h\\lambda)^3}{6} + \\frac{(h\\lambda)^4}{24}\\right]\n",
    "$$\n",
    "\n",
    "Para que el algoritmo sea estable se debe cumplir que $-2.7853 < h\\lambda < 0$"
   ]
  },
  {
   "cell_type": "markdown",
   "metadata": {},
   "source": [
    "### Paso adaptativo\n",
    "\n",
    "Ecuacion: $$\\ddot{x} = \\frac{\\dot{x}}{t} - 4kt^2x$$\n",
    "\n",
    "$$\\frac{dx}{dt} = v$$\n",
    "\n",
    "$$\\frac{dv}{dt} = \\frac{v}{t} - 4kt^2x$$\n",
    "\n",
    "Solucion analitica:\n",
    "\n",
    "$$ x(t) = \\sin(\\sqrt{k}t) $$"
   ]
  },
  {
   "cell_type": "markdown",
   "metadata": {},
   "source": [
    "### Implementacion\n",
    "\n",
    "Paso redoblado: Cada paso se da 2 veces\n",
    "1. Con paso tamano $2h$\n",
    "2. Con paso tamano $h$ + otro paso tamano $h$\n",
    "\n",
    "Con paso $2h:\\quad y(x+2h) = y_1+\\left(2h\\right)^5*const + O\\left(h^6\\right)$\n",
    "\n",
    "Con paso $h:\\quad y(x+2h) = y_2+\\left(2h\\right)^5*const + O\\left(h^6\\right)$"
   ]
  },
  {
   "cell_type": "markdown",
   "metadata": {},
   "source": [
    "### Segunda implementacion\n",
    "\n",
    "1. Un paso $h$, con RK4\n",
    "2. Un paso $h$, con RK5\n",
    "\n",
    "Llamando $h_0$ al tamano relativo del paso se tiene: \n",
    "\n",
    "$$\n",
    "\\frac{h_0}{h_1} = \\left(\\frac{\\Delta_0}{\\Delta_1}\\right)^{1/5}\n",
    "$$\n",
    "\n",
    "El exponente depende del algoritmo y el cuociente de deltas corresponde al tamano del error."
   ]
  },
  {
   "cell_type": "code",
   "execution_count": null,
   "metadata": {
    "collapsed": true
   },
   "outputs": [],
   "source": []
  }
 ],
 "metadata": {
  "anaconda-cloud": {},
  "kernelspec": {
   "display_name": "Python [Root]",
   "language": "python",
   "name": "Python [Root]"
  },
  "language_info": {
   "codemirror_mode": {
    "name": "ipython",
    "version": 2
   },
   "file_extension": ".py",
   "mimetype": "text/x-python",
   "name": "python",
   "nbconvert_exporter": "python",
   "pygments_lexer": "ipython2",
   "version": "2.7.12"
  }
 },
 "nbformat": 4,
 "nbformat_minor": 0
}
