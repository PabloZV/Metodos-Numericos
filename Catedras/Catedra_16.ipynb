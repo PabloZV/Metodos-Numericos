{
 "cells": [
  {
   "cell_type": "markdown",
   "metadata": {},
   "source": [
    "# Catedra 16\n",
    "\n",
    "## Ecuaciones Parabolicas\n",
    "\n",
    "$$\n",
    "\\frac{\\partial F}{\\partial t} + \\frac{\\partial}{\\partial x}\\left(B(x, t, F)\\frac{\\partial F}{\\partial x}\\right) = S(t, x, F)\n",
    "$$"
   ]
  },
  {
   "cell_type": "markdown",
   "metadata": {},
   "source": [
    "### Ejemplos:\n",
    "- $\\dfrac{\\partial T}{\\partial t} = k\\nabla^2T$ : Difusion del calor.\n",
    "- $\\dfrac{\\partial \\psi}{\\partial t} = -iH\\psi$ : Ecuacion de Schroedinger dependiente del tiempo."
   ]
  },
  {
   "cell_type": "markdown",
   "metadata": {},
   "source": [
    "Partiendo con la ecuacion del calor con conductividad constante $k = k_0$\n",
    "$$\n",
    "\\frac{\\partial T}{\\partial t} = k_0\\frac{\\partial^2T}{\\partial x^2}\n",
    "$$"
   ]
  },
  {
   "cell_type": "markdown",
   "metadata": {},
   "source": [
    "### Adimensionalizacion del problema:\n",
    "\n",
    "La idea es sacar las unidades del problema y luego resolver numericamente, asi uno no se acerca al limite donde se pierde precision.\n",
    "\n",
    "$$\\begin{matrix}\n",
    "x = Lx' \\\\\n",
    "T = T^0T' \\\\\n",
    "t = t_0t'\n",
    "\\end{matrix}$$\n",
    "\n",
    "Reemplazando de vuelta en la ecuacion queda:"
   ]
  },
  {
   "cell_type": "markdown",
   "metadata": {},
   "source": [
    "$$\\begin{matrix}\n",
    "\\dfrac{\\partial T}{\\partial t} = \\dfrac{\\partial(T^0T')}{\\partial(t_0t')} = \\dfrac{T^0}{t_0}\\dfrac{\\partial T'}{\\partial t'} \\\\ \\\\\n",
    "\\dfrac{\\partial^2T}{\\partial x^2} = \\dfrac{T^0}{L^2}\\dfrac{\\partial T'}{\\partial x'^2} \\\\ \\\\\n",
    "\\dfrac{T^0}{t_0}\\dfrac{\\partial T'}{\\partial t'} = \\dfrac{T^0k_0}{L^2}\\dfrac{\\partial T'}{\\partial x'^2} \\implies \\dfrac{\\partial T'}{\\partial t'} = \\dfrac{t_0k_0}{L^2}\\dfrac{\\partial T'}{\\partial x'^2} \\\\ \\\\\n",
    "\\dfrac{t_0k_0}{L^2} = 1 \\implies t_0 = \\frac{L^2}{k_0}\n",
    "\\end{matrix}$$\n",
    "\n",
    "$\\implies$ Problema adimensionalizado:\n",
    "$$\n",
    "\\dfrac{\\partial T'}{\\partial t'} = \\dfrac{\\partial^2 T'}{\\partial x'^2}\n",
    "$$"
   ]
  },
  {
   "cell_type": "markdown",
   "metadata": {},
   "source": [
    "### Discretizacion:\n",
    "\n",
    "Notacion: $T_j^n = T(t=t_n; x=x_j)$\n",
    "\n",
    "$t_n = t_0 + n\\epsilon$\n",
    "\n",
    "$x_j = x_0 + jh$\n",
    "\n",
    "Grilla en el espacio y tiempo"
   ]
  },
  {
   "cell_type": "markdown",
   "metadata": {},
   "source": [
    "## Metodo Explicito\n",
    "\n",
    "$$\\begin{matrix}\n",
    "\\left(\\dfrac{\\partial T'}{\\partial t'}\\right)_j = \\dfrac{T^{n+1}_j - T^n_j}{\\epsilon} \\\\ \\\\\n",
    "\\left(\\dfrac{\\partial^2 T'}{\\partial x'^2}\\right)^n = \\dfrac{T^n_{j+1} - 2T^n_j + T^n_{j-1}}{h^2} \\\\ \\\\\n",
    "\\dfrac{T^{n+1}_j - T^n_j}{\\epsilon} = \\dfrac{T^n_{j+1} - 2T^n_j + T^n_{j-1}}{h^2} \\\\\n",
    "T_j^{n+1} = \\dfrac{\\epsilon}{h^2}\\left[T^n_{j+1} - 2T^n_j + T^n_{j-1}\\right] + T^n_j\n",
    "\\end{matrix}$$\n",
    "\n",
    "Se define $r = \\dfrac{\\epsilon}{h^2}$ y se tiene:\n",
    "\n",
    "$$T_j^{n+1} = rT_{j+1}^n + (1-2r)T^n_j+ rT^n_{j-1}$$"
   ]
  },
  {
   "cell_type": "markdown",
   "metadata": {},
   "source": [
    "## Analisis de estabilidad\n",
    "\n",
    "Para analizar la estabilidad del algoritmo se asume una solucion de tipo $T^n_j = \\sigma^ne^{ikx_j}$.\n",
    "\n",
    "Reemplazando se tiene y usando que $x_j = x_0 + hj$:\n",
    "\n",
    "$$\\begin{matrix}\n",
    "\\sigma^{n+1}e^{ikx_j} = r\\sigma^ne^{ikx_{j+1}} + (1- 2r)\\sigma^ne^{ikx_j} + r\\sigma^ne^{ikx_{j-1}} \\\\ \\\\\n",
    "\\sigma^{n+1} = r\\sigma^ne^{ikh} + (1-2r)\\sigma^n+r\\sigma^ne^{-ikh} \\\\ \\\\\n",
    "\\sigma = re^{ikh}+(1-2r)+re^{-ikh} \\\\ \\\\\n",
    "= 2r\\cos(kh)+(1-2r) \\\\ \\\\\n",
    "\\sigma = 1-2r(1-\\cos(kh))\n",
    "\\end{matrix}$$"
   ]
  },
  {
   "cell_type": "markdown",
   "metadata": {},
   "source": [
    "Para que no diverja, $\\sigma \\in (-1, 1) \\implies \\vert\\sigma\\vert < 1$\n",
    "\n",
    "$-1 < 1-2r(1-\\cos(kh)) < 1$ a la vez. $\\rightarrow -2r(1-\\cos(kh)) > -2 \\implies r(1-\\cos(kh)) < 1$\n",
    "\n",
    "En el peor caso $\\cos(kh) = -1\\quad r = \\dfrac{\\epsilon}{h^2} < \\dfrac{1}{2}$\n",
    "\n",
    "Si bien el algoritmo es estable, resulta ser caro para los pasos temporales y muy restrictivo para alanzar buena precision."
   ]
  },
  {
   "cell_type": "markdown",
   "metadata": {},
   "source": [
    "## Metodo de Crank-Nicolson\n",
    "\n",
    "$$\n",
    "\\frac{\\partial T}{t} = \\frac{\\partial^2 T}{\\partial x^2} = f(x, t) \\rightarrow \\int\\partial T = \\int_{t_n}^{t_{n+1}}f(x,t dt)\n",
    "$$"
   ]
  },
  {
   "cell_type": "markdown",
   "metadata": {},
   "source": [
    "$$\\begin{matrix}\n",
    "T_j^{n+1} - T^n_j = (f(x, t_{n+1}) + f(x, t_n))\\dfrac{\\epsilon}{2} \\\\ \\\\\n",
    "T_j^{n+1} - T^n_j = \\dfrac{\\epsilon}{2}\\left(\\dfrac{\\partial^2 T}{\\partial x^2}(n+1) + \\dfrac{\\partial^2 T}{\\partial x^2}(n)\\right) \\\\ \\\\\n",
    "T_j^{n+1} - T^n_j = \\dfrac{\\epsilon}{2}\\left(\\dfrac{1}{h^2}\\left[T^{n+1}_{j+1} - 2T^{n+1}_j + T^{n+1}_{j-1}\\right] + \\dfrac{1}{h^2}\\left[T^n_{j+1} - 2T^n_j + T^n_{j-1}\\right]\\right)\n",
    "\\end{matrix}$$"
   ]
  },
  {
   "cell_type": "markdown",
   "metadata": {},
   "source": [
    "Renombrando $s = \\dfrac{\\epsilon}{2h^2}$\n",
    "\n",
    "$$\\begin{matrix}\n",
    "T_j^{n+1} - T^n_j = s\\left(T^{n+1}_{j+1} - 2T^{n+1}_j + T^{n+1}_{j-1} + T^n_{j+1} - 2T^n_j + T^n_{j-1}\\right) \\\\ \\\\\n",
    "T_j^{n+1} - s\\left(T^{n+1}_{j+1} - 2T^{n+1}_j + T^{n+1}_{j-1}\\right) = T_j^n + s\\left(T^n_{j+1} - 2T^n_j + T^n_{j-1}\\right) \\\\ \\\\\n",
    "\\implies - sT^{n+1}_{j+1} + (2s+1)T^{n+1}_j - sT^{n+1}_{j-1} = sT^n_{j+1} + (1-2s)T^n_j + sT^n_{j-1}\n",
    "\\end{matrix}$$"
   ]
  },
  {
   "cell_type": "markdown",
   "metadata": {},
   "source": [
    "## Analisis de estabilidad\n",
    "\n",
    "Asumiendo una solucion con la forma $T = \\sigma e^{ikx}$ y recordando que $x_j = x_0 + hj$\n",
    "\n",
    "$$\\begin{matrix}\n",
    "-s\\sigma^{n+1}e^{ikx_{j+1}} + (2s+1)\\sigma^{n+1}e^{ikx_j} - s\\sigma^{n+1}e^{ikx_{j-1}} = s\\sigma^{n}e^{ikx_{j+1}} + (1-2s)\\sigma^{n}e^{ikx_{j}} + s\\sigma^{n}e^{ikx_{j-1}} \\\\ \\\\\n",
    "\\implies -s\\sigma e^{ikh} + (2s+1)\\sigma - s\\sigma e^{-ikh} = se^{ikh}+(1-2s)+se^{-ikh} \\\\ \\\\\n",
    "\\implies -2s\\sigma\\cos(kh) + (2s+1)\\sigma = 2s\\cos(kh)+(1-2s) \\\\ \\\\\n",
    "\\implies \\sigma = \\frac{1-2s(1-\\cos(kh))}{1+2s(1-\\cos(kh))} \\implies \\vert\\sigma\\vert < 1\n",
    "\\end{matrix}$$"
   ]
  },
  {
   "cell_type": "markdown",
   "metadata": {
    "collapsed": true
   },
   "source": [
    "Siempre es incodicionalmente estable."
   ]
  },
  {
   "cell_type": "markdown",
   "metadata": {},
   "source": [
    "## Discretizacion mas General\n",
    "$$\n",
    "\\frac{T^{n+1}_j-T^n_j}{\\epsilon} = \\frac{a}{2}\\frac{t^{n+1}_{j+1} - 2T^{n+1}_j + T^{n+1}_{j-1}}{h^2} + \\frac{2-a}{2}\\frac{t^{n}_{j+1} - 2T^{n}_j + T^{n}_{j-1}}{h^2}\n",
    "$$\n",
    "\n",
    "- Cuando $a=0$ es el metodo explicito.\n",
    "- Cuando $a=1$ es el metodo de Crank-Nicolson.\n",
    "- Cuando $a=2$ es el metodo de Euler-Implicito."
   ]
  },
  {
   "cell_type": "markdown",
   "metadata": {},
   "source": [
    "## Como se resuelve?\n",
    "\n",
    "Se escribe el problema como vector:\n",
    "\n",
    "$$\n",
    "-sT^{n+1}_{j+1} + (2s+1)T^{n+1}_j - sT^{n+1}_{j-1} = sT^n_{j+1} + (1-2s)T^n_j + sT^n_{j-1}\n",
    "$$"
   ]
  },
  {
   "cell_type": "markdown",
   "metadata": {},
   "source": [
    "Esto se escribe como una matriz tri-diagonal:\n",
    "$$\\left[\\begin{matrix}\n",
    "-s & (2s+1) & -s & 0 & 0 & 0 & 0\\\\\n",
    "0 & -s & (2s+1) & -s & 0 & 0 & 0\\\\\n",
    "0 & 0 & -s & (2s+1) & -s & 0 & 0\\\\\n",
    "0 & 0 & 0 & -s & (2s+1) & -s & 0\\\\\n",
    "0 & 0 & 0 & 0 &-s & (2s+1) & -s\n",
    "\\end{matrix}\\right]\\left(\\begin{matrix}\n",
    "\\vdots \\\\\n",
    "T_{j-1} \\\\\n",
    "T_j \\\\\n",
    "t_{j+1} \\\\\n",
    "\\vdots\n",
    "\\end{matrix}\\right)^{n+1}$$"
   ]
  },
  {
   "cell_type": "markdown",
   "metadata": {},
   "source": [
    "$$ = \\left[\\begin{matrix}\n",
    "s & (1-2s) & s & 0 & 0 & 0 & 0\\\\\n",
    "0 & s & (1-2s) & s & 0 & 0 & 0\\\\\n",
    "0 & 0 & s & (1-2s) & s & 0 & 0\\\\\n",
    "0 & 0 & 0 & s & (1-2s) & s & 0\\\\\n",
    "0 & 0 & 0 & 0 & s & (1-2s) & s\n",
    "\\end{matrix}\\right]\\left(\\begin{matrix}\n",
    "\\vdots \\\\\n",
    "T_{j-1} \\\\\n",
    "T_j \\\\\n",
    "t_{j+1} \\\\\n",
    "\\vdots\n",
    "\\end{matrix}\\right)^{n}$$"
   ]
  },
  {
   "cell_type": "markdown",
   "metadata": {},
   "source": [
    "Un problema de tipo $A\\vec{\\phi} = \\vec{b}$"
   ]
  },
  {
   "cell_type": "code",
   "execution_count": null,
   "metadata": {
    "collapsed": true
   },
   "outputs": [],
   "source": []
  }
 ],
 "metadata": {
  "anaconda-cloud": {},
  "kernelspec": {
   "display_name": "Python [Root]",
   "language": "python",
   "name": "Python [Root]"
  },
  "language_info": {
   "codemirror_mode": {
    "name": "ipython",
    "version": 2
   },
   "file_extension": ".py",
   "mimetype": "text/x-python",
   "name": "python",
   "nbconvert_exporter": "python",
   "pygments_lexer": "ipython2",
   "version": "2.7.12"
  }
 },
 "nbformat": 4,
 "nbformat_minor": 0
}
