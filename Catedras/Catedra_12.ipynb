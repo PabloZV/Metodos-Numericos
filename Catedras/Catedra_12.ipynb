{
 "cells": [
  {
   "cell_type": "markdown",
   "metadata": {},
   "source": [
    "# Catedra 12\n",
    "\n",
    "## Algoritmos simplecticos"
   ]
  },
  {
   "cell_type": "markdown",
   "metadata": {},
   "source": [
    "- Verlet\n",
    "- Soermer\n",
    "\n",
    "Estos algoritmos tienen aplicacion a ecuaciones de segundo orden tales que la primera derivada no aparece a la derecha. Ademas conservan la energia del sistema.\n",
    "\n",
    "$$\n",
    "\\begin{matrix}\n",
    "\\frac{d^2y}{dx^2} = f(x, y) \\\\\n",
    "f = ma\n",
    "\\end{matrix}\n",
    "$$\n"
   ]
  },
  {
   "cell_type": "markdown",
   "metadata": {},
   "source": [
    "## Verlet Clasico\n",
    "\n",
    "$$\n",
    "\\begin{matrix}\n",
    "y'' = f(x,y) = a \\\\ \\\\\n",
    "y_{n+1} = y_n + \\frac{dy}{dx}\\biggr\\vert_n+\\frac{1}{2}\\frac{d^2y}{dx^2}h^2 + O\\left(h^3\\right) \\qquad\\qquad\\\\ \\\\\n",
    "y_{n+1} = y_n + v_nh + \\frac{1}{2}a_nh^2 + O\\left(h^3\\right) \\qquad\\qquad (1)\\\\ \\\\\n",
    "y_{n-1} = y_n - v_bh + \\frac{1}{2}a_nh^2 + O\\left(h^3\\right) \\qquad\\qquad (2)\n",
    "\\end{matrix}\n",
    "$$\n",
    "\n",
    "Sumando las ecuaciones (1) y (2) $\\implies$\n",
    "$$\n",
    "\\begin{matrix}\n",
    "y_{n+1} + y_{n-1} = 2y_n + a_nh^2 + O\\left(h^4\\right) \\\\ \\\\\n",
    "y_{n+1} = 2y_n-y_{n-1} + a_nh^2 + O\\left(h^4\\right)\n",
    "\\end{matrix}\n",
    "$$"
   ]
  },
  {
   "cell_type": "markdown",
   "metadata": {},
   "source": [
    "### Condiciones iniciales:\n",
    "- $y(x_0) = y_0$\n",
    "- $y'(x_0) = v_0$\n",
    "\n",
    "### Ventajas:\n",
    "- No depende de $v_n$\n",
    "- Rapido\n",
    "\n",
    "### Desventajas:\n",
    "- No es ''Self-starting'' i.e. requiere de otro algoritmo par empezar."
   ]
  },
  {
   "cell_type": "markdown",
   "metadata": {},
   "source": [
    "## Verlet con velocidad\n",
    "$$\\begin{matrix}\n",
    "v_{n+1} = v_n + \\frac{1}{2}\\left(a_n + a_{n+1}\\right)h \\\\ \\\\\n",
    "y_{n+1} = y_n + v_nh + \\frac{1}{2}a_nh^2\n",
    "\\end{matrix}$$\n",
    "\n",
    "Asi $v_{n+1} = \\frac{y_{n+2} - y_n}{2h}$"
   ]
  },
  {
   "cell_type": "markdown",
   "metadata": {},
   "source": [
    "## Algoritmo de Beeman\n",
    "Es lo mismo que verlet ($O\\left(h^4\\right)$) pero conserva mejor la energia del sistema.\n",
    "$$\\begin{matrix}\n",
    "v_{n+1} = v_n + \\frac{1}{6}\\left(2a_{n+1} + 5a_n - a_{n-1}\\right)h + O\\left(h^3\\right) \\\\ \\\\\n",
    "y_{n+!} = y_n + v_nh + \\frac{1}{6}\\left(4a_n - a_{n-1}\\right)h^2 + O\\left(h^4\\right)\n",
    "\\end{matrix}$$"
   ]
  },
  {
   "cell_type": "markdown",
   "metadata": {},
   "source": [
    "## Paso adaptativo\n",
    "Si hay dos o mas escalas de tiempo asociadas al problema, entonces no existe un paso adaptativo para resolver el problema."
   ]
  },
  {
   "cell_type": "markdown",
   "metadata": {},
   "source": [
    "## Ejemplos\n",
    "- 2 resortes conectados y con frecuencia de oscilacion muy distintas\n",
    "- $$\\begin{matrix}\n",
    "u' = 998u + 1998v \\\\ \\\\\n",
    "v' = -99u - 199v\n",
    "\\end{matrix}$$ Con condiciones iniciales $u(0) = 1,\\quad v(0) = 0$\n",
    "\n",
    "Para el segundo ejemplo: Transformacion\n",
    "$$\\begin{matrix}\n",
    "u = 2y-z \\rightarrow u' = 2y' - z' \\\\ \\\\\n",
    "v = -y+z \\rightarrow v' = -y' -z'\n",
    "\\end{matrix}$$\n",
    "\n",
    "Esto da como solucion:\n",
    "$$\\begin{matrix}\n",
    "u = 2e^{-x}-e^{-1000x} \\\\ \\\\\n",
    "v = -e^{-x} + e^{-1000x}\n",
    "\\end{matrix}$$\n",
    "\n",
    "Se requiere pasos pequenos para resolver el sistema."
   ]
  },
  {
   "cell_type": "markdown",
   "metadata": {},
   "source": [
    "### Estrategia\n",
    "\n",
    "Ejemplo\n",
    "\n",
    "Consideremos $y' = -cy$ con $c>0$ constante.\n",
    "\n",
    "$$\\begin{matrix}\n",
    "\\frac{y_{n+1}-y_n}{h} = -cy_n \\\\ \\\\\n",
    "y_{n+1} = y_n - chy_n \\\\ \\\\\n",
    "y_{n+1} = y_n(1-ch)\n",
    "\\end{matrix}$$\n",
    "\n",
    "Que pasa si $1-ch < -1$? $\\implies y_1 \\rightarrow\\infty$ as $n\\rightarrow\\infty\\implies2<ch$ "
   ]
  },
  {
   "cell_type": "markdown",
   "metadata": {},
   "source": [
    "Cambiando el procedimiento a\n",
    "\n",
    "$$\n",
    "y'_{n+1} = \\frac{y_{n+1} - y_n}{h}\n",
    "$$\n",
    "\n",
    "Se tiene\n",
    "\n",
    "$$\\begin{matrix}\n",
    "\\frac{y_{n+1} - y_n}{h} = -cy_{n+1} \\\\ \\\\\n",
    "y_{n+1}(1 + ch) = y_n \\\\ \\\\\n",
    "y_{n+1} = \\frac{y_n}{1+ch} \\\\ \\\\\n",
    "\\rightarrow y_n = \\frac{y_0}{\\left(1+ch\\right)^n}\n",
    "\\end{matrix}$$ Esto nunca diverge."
   ]
  },
  {
   "cell_type": "markdown",
   "metadata": {},
   "source": [
    "### De forma mas general:\n",
    "$y' = f(t,y)$\n",
    "### Implicito:\n",
    "$$y_{n+1} = y_n + hf(t_{n+1}, y_{n+1})$$\n",
    "\n",
    "La ecuacion a resolver es posiblemente no lineal.\n",
    "\n",
    "En los casos no lineales, la idea es linealizar (al mismo orden que el metodo de discretizacion de la derivada).\n",
    "\n",
    "Ejemplo:\n",
    "\n",
    "Dada la ecuacion\n",
    "$$\\begin{matrix}\n",
    "y' = f(t,y) \\\\\n",
    "y_n = \\bar{y}_n\n",
    "\\end{matrix}$$ con $y_n = \\bar{y}_n$ condicion de borde.\n",
    "\n",
    "$$\n",
    "y(t) = \\bar{y}_n + \\int_{t_n}^t f(t', y)dt'\n",
    "$$"
   ]
  },
  {
   "cell_type": "markdown",
   "metadata": {},
   "source": [
    "Para $t = t_{n+1} \\rightarrow y_{n+1} = \\bar{y}_n + \\int_{t_n}^{t_{n+1}}f(t', y)dt'$. Esto se puede integrar usando, por ejemplo, la regla trapezoidal. Luego\n",
    "\n",
    "$$\n",
    "y_{n+1} = \\bar{y}_n + \\frac{h}{2}\\left[f\\left(t_{n+1}, y_{n+1}\\right) + f\\left(t_n, y_n\\right)\\right] + O\\left(h^2\\right)\n",
    "$$\n",
    "\n",
    "- En EDP, se llama algoritmode Crank-Nicolson.\n",
    "\n",
    "En general la ecuacion anterior es no lineal. El primer termino de la integral se debe expandir hasta orden $O\\left(h^2\\right)$\n",
    "\n",
    "$$\n",
    "f(t_{n+1}, y_{n+1}) = f(t_{n+1}, y_n) + (y_{n+1} - y_n)\\frac{\\partial f}{\\partial y}\\biggr\\vert_{t_{n+1}, y_n} + O\\left(h^2\\right)\n",
    "$$\n",
    "\n",
    "Asi\n",
    "$$\\begin{matrix}\n",
    "y_{n+1} = y_n + \\frac{h}{2}\\left[f(t_{n+1}, y_n) + (y_{n+1} - y_n)\\frac{\\partial f}{\\partial y}\\biggr|vert_{t_{n+1}, y_{n}} + O\\left(h^2\\right) + f(t_n, y_n)\\right] + O\\left(h^3\\right) \\\\ \\\\\n",
    "= y_n + \\frac{h}{2}\\left[f(t_{n+1}, y_n) + f(t_n, y_n)\\right] + \\frac{h}{2}y_{n+1}\\frac{\\partial f}{\\partial y} - \\frac{h}{2}y_n\\frac{\\partial f}{\\partial y} + O\\left(h^3\\right)\n",
    "\\end{matrix}$$"
   ]
  },
  {
   "cell_type": "markdown",
   "metadata": {},
   "source": [
    "$$\n",
    "y_{n+1} = y_n + \\frac{\n",
    "\\frac{h}{2}\\left[f(t_{n+1},y_n) + f(t_n, y_n)\\right]}{1 - \\frac{h}{2}\\frac{\\partial f}{\\partial y}\\biggr\\vert_{t_{n+1}, y_n}}\n",
    "$$"
   ]
  }
 ],
 "metadata": {
  "kernelspec": {
   "display_name": "Python [Root]",
   "language": "python",
   "name": "Python [Root]"
  },
  "language_info": {
   "codemirror_mode": {
    "name": "ipython",
    "version": 2
   },
   "file_extension": ".py",
   "mimetype": "text/x-python",
   "name": "python",
   "nbconvert_exporter": "python",
   "pygments_lexer": "ipython2",
   "version": "2.7.12"
  }
 },
 "nbformat": 4,
 "nbformat_minor": 0
}
