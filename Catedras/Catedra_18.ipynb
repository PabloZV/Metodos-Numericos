{
 "cells": [
  {
   "cell_type": "markdown",
   "metadata": {},
   "source": [
    "# Catedra 18\n",
    "\n",
    "## Estadistica Bayesiana"
   ]
  },
  {
   "cell_type": "markdown",
   "metadata": {},
   "source": [
    "## Teorema basico:\n",
    "\n",
    "$$\\begin{matrix}\n",
    "P(A\\vert B) = \\dfrac{P(A\\cap B)}{P(B)} \\\\ \\\\\n",
    "P(B\\vert A) = \\dfrac{P(A\\cap B)}{P(A)} \\\\ \\\\\n",
    "\\implies P(A\\vert B)P(B) = P(B\\vert A)P(A)\n",
    "\\end{matrix}$$"
   ]
  },
  {
   "cell_type": "markdown",
   "metadata": {},
   "source": [
    "## Teorema de Bayes:\n",
    "\n",
    "$$\n",
    "P(A\\vert B) = \\frac{P(B\\vert A)P(A)}{P(B)}\n",
    "$$"
   ]
  },
  {
   "cell_type": "markdown",
   "metadata": {},
   "source": [
    "### En la practica:\n",
    "\n",
    "$A\\rightarrow H$: Una hipotesis (por ejemplo: Los parametros de un modelo son $\\hat{\\theta}$)\n",
    "\n",
    "$B\\rightarrow E$: Eventos/Evidencia/Observaciones\n",
    "\n",
    "$$\n",
    "P(H\\vert E) = \\frac{P(E\\vert H)P(H)}{P(E)}\n",
    "$$\n",
    "\n",
    "- $P(H\\vert E)$ : La probabilidad de que los parametros de un modelo sean $\\hat{\\theta}$ dada la evidencia empirica. Se llama la probabilidad a posteriori.\n",
    "- $P(E\\vert H)$ : La probabilidad de que ocurran las observaciones E dado el modelo $\\hat{\\theta}$\n",
    "- $P(H)$ : Probabilidad de que H sea el modelo correcto (A priori, antes de ver las observaciones).\n",
    "- $P(E)$ : Probabilidad de observar la evidencia bajo todas las hipotesis H posibles."
   ]
  },
  {
   "cell_type": "markdown",
   "metadata": {},
   "source": [
    "$P(E)$ Se calcula con el teorema de probabilidades totales:\n",
    "\n",
    "$$\n",
    "P(E) = \\sum_i P(E\\vert H_i)P(H_i)\n",
    "$$\n",
    "\n",
    "$P(E)$ Es la parte mas dificil de calcular, pero corresponde a una normalizacion, asi que si se puede evaluar $P(E\\vert H)$ y $P(H) \\implies$ Se puede integrar y normalizar."
   ]
  },
  {
   "cell_type": "markdown",
   "metadata": {},
   "source": [
    "$P(H\\vert E) = \\dfrac{P(E\\vert H)P(H)}{P(E)}$\n",
    "\n",
    "Nota: Gaussiana multivariada (Utiles para definir los priors).\n",
    "\n",
    "En general:\n",
    "$$\n",
    "G\\left(\\vec{X}\\right) = \\dfrac{1}{\\sqrt{(2\\pi)^n\\text{det}(\\Sigma)}}\\times e^{\\left(-\\frac{1}{2}\\left(\\vec{x}-\\vec{\\mu}\\right)^T\\Sigma^{-1}\\left(\\vec{x}-\\vec{\\mu}\\right)\\right)}\n",
    "$$"
   ]
  },
  {
   "cell_type": "markdown",
   "metadata": {},
   "source": [
    "$$\\vec{X} = \\left(\\begin{matrix}\n",
    "X_1 \\\\ \\vdots \\\\ X_n \\end{matrix} \\right)\n",
    "$$"
   ]
  },
  {
   "cell_type": "markdown",
   "metadata": {},
   "source": [
    "### Matriz covarianza\n",
    "$$\n",
    "\\Sigma = [\\quad]_{N\\times N}\n",
    "$$"
   ]
  },
  {
   "cell_type": "markdown",
   "metadata": {},
   "source": [
    "Note que para el caso $N=1\\rightarrow\\Sigma=\\sigma^2$\n",
    "$$\n",
    "\\implies G(X) = \\dfrac{1}{\\sqrt{2\\pi\\sigma^2}}e^{-\\frac{(x-\\mu)^2}{2\\sigma^2}}\n",
    "$$"
   ]
  },
  {
   "cell_type": "markdown",
   "metadata": {},
   "source": [
    "## Caso 2D\n",
    "\n",
    "$$\n",
    "\\vec{\\mu} = \\left(\\begin{matrix} \\mu_x \\\\ \\mu_y \\end{matrix}\\right) \\qquad \\Sigma = \\left[\\begin{matrix}\\sigma_x^2 & \\rho\\sigma_x\\sigma_y \\\\ \\rho\\sigma_x\\sigma_y & \\sigma_y^2 \\end{matrix}\\right]\n",
    "$$"
   ]
  },
  {
   "cell_type": "markdown",
   "metadata": {},
   "source": [
    "$$\n",
    "G(x,y) = \\frac{1}{2\\pi\\sigma_x\\sigma_y\\sqrt{1-\\rho^2}}e^{\\frac{1}{2}\\left(\\frac{(x-\\mu_x)^2}{\\sigma_x^2} + \\frac{(y-\\mu_y)^2}{\\sigma_y^2} - \\frac{2\\rho(x-\\mu_x)(y-\\mu_y)}{\\sigma_x\\sigma_y}\\right)}\n",
    "$$"
   ]
  },
  {
   "cell_type": "markdown",
   "metadata": {},
   "source": [
    "## En general:\n",
    "La matriz de covarianza $\\Sigma$ es una matriz diagonal con los $\\sigma_i^2$\n",
    "\n",
    "Incluso por simplicidad muchas veces se asume $\\Sigma = \\alpha I$ con $I$ la matriz identidad. Todos los $\\sigma$ iguales y $\\sigma >> 1$ indica que sabemos poco a priori."
   ]
  },
  {
   "cell_type": "markdown",
   "metadata": {},
   "source": [
    "## El modelo\n",
    "\n",
    "$(x_i, y_i)_{i=1\\ldots N}$ son las observaciones\n",
    "\n",
    "$y_i = \\beta_0 + \\beta_1x_i + \\epsilon_i \\leftarrow$ modelo lineal \n",
    "\n",
    "Se define\n",
    "\n",
    "$$\n",
    "\\vec{y} = \\left(\\begin{matrix}y_1 \\\\ \\vdots \\\\ y_N \\end{matrix}\\right) \\qquad \\vec{\\epsilon} = \\left(\\begin{matrix}\\epsilon_1 \\\\ \\vdots \\\\ \\epsilon_N \\end{matrix}\\right) \\qquad \\vec{\\beta} = \\left(\\begin{matrix}\\beta_1 \\\\ \\beta_1 \\end{matrix}\\right)\n",
    "$$\n",
    "\n",
    "Con $\\vec{\\beta}$ los parametros del modelo."
   ]
  },
  {
   "cell_type": "markdown",
   "metadata": {},
   "source": [
    "## Matriz de diseno\n",
    "\n",
    "$$\n",
    "\\bar{X} = \\left[\\begin{matrix}\n",
    "1 & x_1 \\\\ \\vdots & \\vdots \\\\ 1 & x_N\n",
    "\\end{matrix}\\right]\n",
    "$$\n",
    "\n",
    "$$\\rightarrow \\vec{y} = X\\vec{\\beta} + \\vec{\\epsilon}$$\n",
    "\n",
    "Resume el modelo para todos los $i$"
   ]
  },
  {
   "cell_type": "markdown",
   "metadata": {},
   "source": [
    "## Verosimilitud\n",
    "Asumiendo $\\epsilon_i = \\epsilon = const$\n",
    "\n",
    "$$\\begin{matrix}\n",
    "P(\\vec{x},\\vec{y}\\vert\\vec{\\beta}) = \\prod_{i=1}^N\\frac{1}{\\sqrt{2\\pi\\epsilon^2}}e^{-\\frac{\\left(y_i - \\beta_0 - \\beta_1x_i\\right)^2}{2\\epsilon^2}} \\\\ \\\\\n",
    "= \\frac{1}{(2\\pi\\epsilon^2)^{N/2}}e^{-\\frac{1}{2\\epsilon^2}\\sum_{i=1}^N\\left(y_i - \\beta_0 - \\beta_1x_i\\right)^2} \\\\ \\\\\n",
    "P\\left(\\vec{X},\\vec{Y}\\vert\\vec{\\beta}\\right) = \\frac{1}{(2\\pi\\epsilon^2)^{N/2}}e^{-\\frac{1}{2\\epsilon^2}\\left(\\vec{y}-\\bar{X}\\vec{\\beta}\\right)^T\\left(\\vec{y}-\\bar{X}\\vec{\\beta}\\right)}\\end{matrix}\n",
    "$$"
   ]
  },
  {
   "cell_type": "markdown",
   "metadata": {},
   "source": [
    "Si el prior es gaussiano y la verosimilitud tambien\n",
    "$\n",
    "\\implies P(E\\vert H)P(H)\n",
    "$\n",
    "tambien es gaussiana, luego se simplifica el problema utilizando propiedades analiticas conocidas."
   ]
  },
  {
   "cell_type": "markdown",
   "metadata": {},
   "source": [
    "## Sequential learning\n",
    "$(x_i, y_i)_{i=1\\ldots M}$ Observaciones posteriores : $(x_j, y_j)_{j=M_1\\ldots N}$\n",
    "\n",
    "$P(\\text{Modelo}\\vert \\vec{x},\\vec{y}) \\rightarrow P(\\text{Modelo}\\vert (x_j, y_j)_{j=M_1\\ldots N}) = P(x_j, y_j \\vert \\text{Modelo}) * \\text{Prior}$"
   ]
  },
  {
   "cell_type": "markdown",
   "metadata": {},
   "source": [
    "# Ejemplo\n",
    "## Gaussiana N-dimensional\n",
    "\n",
    "### Demo en 2D\n",
    "\n",
    "$$\n",
    "\\mu = \\left[\\begin{matrix} 0.5 \\\\ 1. \\end{matrix} \\right]\n",
    "$$\n",
    "\n",
    "$$\n",
    "\\Sigma = \\left[\\begin{matrix} 1. & 0.5 \\\\ 0.5 & 1. \\end{matrix} \\right]\n",
    "$$"
   ]
  },
  {
   "cell_type": "code",
   "execution_count": 1,
   "metadata": {
    "collapsed": false
   },
   "outputs": [
    {
     "name": "stderr",
     "output_type": "stream",
     "text": [
      "//anaconda/lib/python2.7/site-packages/matplotlib/font_manager.py:273: UserWarning: Matplotlib is building the font cache using fc-list. This may take a moment.\n",
      "  warnings.warn('Matplotlib is building the font cache using fc-list. This may take a moment.')\n"
     ]
    }
   ],
   "source": [
    "import scipy as sp\n",
    "import matplotlib.pyplot as plt\n",
    "%matplotlib notebook"
   ]
  },
  {
   "cell_type": "code",
   "execution_count": 2,
   "metadata": {
    "collapsed": true
   },
   "outputs": [],
   "source": [
    "x, y = sp.mgrid[-3:3:99j, -3:4:99j]"
   ]
  },
  {
   "cell_type": "code",
   "execution_count": 3,
   "metadata": {
    "collapsed": true
   },
   "outputs": [],
   "source": [
    "def Gauss2D(x, y, mu, sigma_pars):\n",
    "    mu_x, mu_y = my\n",
    "    sigma_x, sigma_y, rho = sigma_pars\n",
    "    A = 1. / (2. * sp.pi * 1. * 1. * sp.sqrt(1. - .5**2))\n",
    "    B = sp.exp(-((x - mu_x) ** 2 / sigma_x**2 + (y - mu_y) ** 2) / sigma_y**2 - \n",
    "               2 * rho * (x - mu_x) * (y - mu_y) / sigma_x / sigma_y) / (2 * (1 - rho**2))\n",
    "    return A * B"
   ]
  }
 ],
 "metadata": {
  "anaconda-cloud": {},
  "kernelspec": {
   "display_name": "Python [Root]",
   "language": "python",
   "name": "Python [Root]"
  },
  "language_info": {
   "codemirror_mode": {
    "name": "ipython",
    "version": 2
   },
   "file_extension": ".py",
   "mimetype": "text/x-python",
   "name": "python",
   "nbconvert_exporter": "python",
   "pygments_lexer": "ipython2",
   "version": "2.7.12"
  }
 },
 "nbformat": 4,
 "nbformat_minor": 0
}
